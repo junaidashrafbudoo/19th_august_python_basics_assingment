{
 "cells": [
  {
   "cell_type": "markdown",
   "id": "06a1975c-1657-4dac-91fe-2aa4359d8aa3",
   "metadata": {},
   "source": [
    "# Topic: Python  Basic Variables"
   ]
  },
  {
   "cell_type": "markdown",
   "id": "dac72507-a5ff-49d4-a7ec-7294235f0c01",
   "metadata": {},
   "source": [
    "### 1. Declare two variables, `x` and `y`, and assign them integer values. Swap the values of these variables without using any temporary variable."
   ]
  },
  {
   "cell_type": "code",
   "execution_count": 3,
   "id": "97e75ed7-feac-480b-aabf-6915fb38dbd3",
   "metadata": {},
   "outputs": [
    {
     "name": "stdout",
     "output_type": "stream",
     "text": [
      "After Swapping:\n",
      "x= 14\n",
      "y= 16\n"
     ]
    }
   ],
   "source": [
    "x=16       # Assing a value to x\n",
    "y=14       # Assing a value to y\n",
    "\n",
    "# Swapping the values of x and y without using the temporary variable\n",
    "x=x+y      # Adding the values of x and y and storing it in x that is the value of x is 16+14=30 now.\n",
    "y=x-y      # Subtract the original value of y from the updated x to get the original x value and store it in y that is the value of y is 30-14=16 now\n",
    "x=x-y      # Subtract the original value of x from the updated x to get the original y value and store it in x that is x is assigned the original value of y\n",
    "\n",
    "\n",
    "print(\"After Swapping:\")\n",
    "print(\"x=\",x)\n",
    "print(\"y=\",y) \n",
    " \n",
    "\n"
   ]
  },
  {
   "cell_type": "markdown",
   "id": "1300eb16-c581-4edf-8bc8-a4ed4cef8b86",
   "metadata": {},
   "source": [
    "# Explanation:\n",
    "\n",
    "1.'x' is assinged the value 16\n",
    "\n",
    "2.'y' is assinged the value 14\n",
    "\n",
    "3.We add the values of 'x' and 'y' and store the result in 'x', which means 'x' now holds the sum of the original values of 'x' and 'y' that is the value of is x=16+14=30 now.\n",
    "\n",
    "4.We subtract the orignal value of'y' fron the updated 'x' and store it in 'y'. This gives 'y' the orignal value of 'x' which was the sum of 'x' and 'y'.\n",
    "\n",
    "5.We subtract the original value of 'y' from the updated 'x' and store the result in 'y'. This effectively gives 'y' the original value of x, which was the sum of 'x' and 'y'.\n",
    "\n",
    "6.After running the code above clearly the values of 'x' and 'y' are swapped."
   ]
  },
  {
   "cell_type": "markdown",
   "id": "2513ac9a-16f4-4019-9942-6e4d40a68fa0",
   "metadata": {},
   "source": [
    "### 2. Create a program that calculates the area of a rectangle. Take the length and width as inputs from the user and store them in variables. Calculate and display the area."
   ]
  },
  {
   "cell_type": "code",
   "execution_count": 6,
   "id": "c9f5dd16-e4aa-414b-98ea-e50b5b12790f",
   "metadata": {},
   "outputs": [
    {
     "name": "stdin",
     "output_type": "stream",
     "text": [
      " Enter length: 67\n",
      "Enter width 90\n"
     ]
    },
    {
     "name": "stdout",
     "output_type": "stream",
     "text": [
      "Area of the rectangle is 6030.0\n"
     ]
    }
   ],
   "source": [
    "length=float(input(\" Enter length:\" ))       # Taking length as input from the user\n",
    "\n",
    "width=float(input(\"Enter width\" ))           # Taking width as input from the user\n",
    "\n",
    "Area= length*width                           # Setting the area of rectangle as length times width\n",
    "\n",
    "print(\"Area of the rectangle is\", Area)      # Displaying the calculated area\n",
    "\n"
   ]
  },
  {
   "cell_type": "markdown",
   "id": "b9aecb1d-a569-409f-95d3-10ab933a0d3b",
   "metadata": {},
   "source": [
    "# Explanation:\n",
    "\n",
    "1.It prompts the user to enter the length of the rectangle and stores the input as a floating point number in the variable 'length'.\n",
    "\n",
    "2.It then prompts the user to enter the width of the rectangle and stores the input as a floating point number in the variable 'width'\n",
    "\n",
    "3.The program calculates the area of the rectangle by multiplying the length and width, and stores the result in the variable 'area'.\n",
    "\n",
    "4.Finally, it displays the calculated area to the user."
   ]
  },
  {
   "cell_type": "markdown",
   "id": "f319bfff-ae03-4f76-8e90-d2aab141ac5d",
   "metadata": {},
   "source": [
    "### 3. Write a Python program that converts temperatures from Celsius to Fahrenheit. Take the temperature in Celsius as input, store it in a variable, convert it to Fahrenheit, and display the result."
   ]
  },
  {
   "cell_type": "code",
   "execution_count": 2,
   "id": "0a9c391e-a28e-4864-9d84-194c327b7b88",
   "metadata": {},
   "outputs": [
    {
     "name": "stdin",
     "output_type": "stream",
     "text": [
      "Enter the temperature in celsius: 27\n"
     ]
    },
    {
     "name": "stdout",
     "output_type": "stream",
     "text": [
      " The temperature in fahrenheit is: 80.6\n"
     ]
    }
   ],
   "source": [
    "celsius=float(input(\"Enter the temperature in celsius:\"))      # Taking the temperature in celsius as input from the user\n",
    "\n",
    "fahrenheit=(celsius*9/5)+32                                    # Converting from celsius to fahrenheit using the conversion formula\n",
    "\n",
    "print(\" The temperature in fahrenheit is:\",fahrenheit)         # Displaying the temperture in fahrenheit"
   ]
  },
  {
   "cell_type": "markdown",
   "id": "276b0be0-716a-4833-8288-15f5149e582b",
   "metadata": {},
   "source": [
    "# Explanation\n",
    "\n",
    "1. It prompts the user to enter the temperature in celsius and stores the input as a floating point number in the variable 'celsius'.\n",
    "\n",
    "2. It then converts the temperature from celsius to fahrenheit using the conversion formula (celsius * 9/5) + 32 and stores the result in the variable 'fahrenheit'.\n",
    "\n",
    "3. Finally, it displays the temperature in fahrenheit to the user."
   ]
  },
  {
   "cell_type": "markdown",
   "id": "ea98ca2e-a25e-4b41-b15e-db106000e3c5",
   "metadata": {},
   "source": [
    "# Topic: String Based Questions"
   ]
  },
  {
   "cell_type": "markdown",
   "id": "1808dc8d-62e0-43b4-97ab-0a17010fa40e",
   "metadata": {},
   "source": [
    "### 1. Write a Python program that takes a string as input and prints the length of the string."
   ]
  },
  {
   "cell_type": "code",
   "execution_count": 5,
   "id": "d66b36a0-11b8-44cf-96c8-85da7230a7c8",
   "metadata": {},
   "outputs": [
    {
     "name": "stdin",
     "output_type": "stream",
     "text": [
      " Enter a string: junaidashrafbudoo\n"
     ]
    },
    {
     "name": "stdout",
     "output_type": "stream",
     "text": [
      "The length of thre string is 17\n"
     ]
    }
   ],
   "source": [
    "x=input(\" Enter a string:\")              # Taking string from a user and storing it in a variable \"x\"\n",
    "\n",
    "y=len(x)                                 # using the len() function to calculate the length of the string stored in the variable \"x\" and storing the length of the string in the variable \"y\"\n",
    "\n",
    "print(\"The length of thre string is\",y)  # Displaying the length of the string"
   ]
  },
  {
   "cell_type": "markdown",
   "id": "5de5dc77-83ec-492f-9db1-b9a356607728",
   "metadata": {},
   "source": [
    "# Explanation"
   ]
  },
  {
   "cell_type": "markdown",
   "id": "d36eead5-7a9d-4c26-ba16-4bc1b149aff9",
   "metadata": {},
   "source": [
    "1. In line 1 we use input() function to get input from the user.The message \"Enter a string:\" is displayed to instruct the user to enter a string, and whatever the user enters is stored in the variable \"x\".\n",
    "\n",
    "2. In line 2 we use the len() function to calculate the length of the string stored in the variable \"x\" and we store the length of the string in the variable\"y\".\n",
    "\n",
    "3. The third line of code prints the result. It displays the message \"The length of the string is:\" followed by the value stored in the \"y\" variable. This value represents the length of the input string."
   ]
  },
  {
   "cell_type": "markdown",
   "id": "544c82a6-2062-4a5f-90ba-1c0a8b405b8c",
   "metadata": {},
   "source": [
    "### 2. Create a program that takes a sentence from the user and counts the number of vowels (a, e, i, o, u) in the string."
   ]
  },
  {
   "cell_type": "code",
   "execution_count": 7,
   "id": "ba5a7a12-6237-4852-800c-9f3ee4f0814e",
   "metadata": {},
   "outputs": [
    {
     "name": "stdin",
     "output_type": "stream",
     "text": [
      "Enter a sentence:  My name is Junaid Ashraf Budoo\n"
     ]
    },
    {
     "name": "stdout",
     "output_type": "stream",
     "text": [
      "The number of vowels in the sentence is: 11\n"
     ]
    }
   ],
   "source": [
    "# Get input from the user\n",
    "sentence = input(\"Enter a sentence: \")\n",
    "\n",
    "# Initialize a variable to store the count of vowels\n",
    "vowel_count = 0\n",
    "\n",
    "# Define a list of vowels\n",
    "vowels = ['a', 'e', 'i', 'o', 'u']\n",
    "\n",
    "# Convert the input sentence to lowercase for case insensitive matching\n",
    "sentence = sentence.lower()\n",
    "\n",
    "# Loop through the sentence and count the vowels\n",
    "for char in sentence:\n",
    "    if char in vowels:\n",
    "        vowel_count += 1\n",
    "\n",
    "# Print the result\n",
    "print(\"The number of vowels in the sentence is:\", vowel_count)\n"
   ]
  },
  {
   "cell_type": "markdown",
   "id": "ebd719bc-0292-40ac-965b-2507cfd51e61",
   "metadata": {},
   "source": [
    "1.  In line 1 it takes a sentence as input from the user.\n",
    "\n",
    "2.  In line 2 it initializes a variable vowel_count to keep track of the count of vowels.\n",
    "\n",
    "3. In line 3 it defines a list vowels containing the vowels 'a', 'e', 'i', 'o', and 'u'.\n",
    "\n",
    "4. Converts the input sentence to lowercase using the lower() method to make the comparison case-insensitive.\n",
    "\n",
    "5. Iterates through each character in the converted sentence and checks if it is a vowel (i.e., if it exists in the vowels list). If it is a vowel, it increments the vowel_count by 1.\n",
    "\n",
    "6. Lastly, it prints the count of vowels in the sentence.\n",
    "\n"
   ]
  },
  {
   "cell_type": "markdown",
   "id": "be7d4cb4-de86-456b-8f8a-61edefffe287",
   "metadata": {},
   "source": [
    "### Given a string, reverse the order of characters using string slicing and print the reversed string."
   ]
  },
  {
   "cell_type": "code",
   "execution_count": 9,
   "id": "5c70c98c-f83d-497b-a2a7-abe42dc517ae",
   "metadata": {},
   "outputs": [
    {
     "name": "stdin",
     "output_type": "stream",
     "text": [
      "Enter a String: junaid\n"
     ]
    },
    {
     "name": "stdout",
     "output_type": "stream",
     "text": [
      "reverse_name: dianuj\n"
     ]
    }
   ],
   "source": [
    "my_name=input(\"Enter a String:\")       # Getting input from the user\n",
    "\n",
    "reverse_name=my_name[::-1]            # Reversing the string using slicing\n",
    "\n",
    "print(\"reverse_name:\",reverse_name)   # Print the reversed string"
   ]
  },
  {
   "cell_type": "markdown",
   "id": "74b0502d-7c83-48fc-9618-269df98826b3",
   "metadata": {},
   "source": [
    "# Explanation\n",
    "\n",
    "1. It takes a string as input from the user.\n",
    "\n",
    "2. It reverses the string using slicing. The slicing notation [::-1] is used to create a reversed copy of the string.\n",
    "\n",
    "3. Lastly, it prints the reversed string to the console."
   ]
  },
  {
   "cell_type": "markdown",
   "id": "4c7916c9-d422-42b7-86f5-1b9fe455ed91",
   "metadata": {},
   "source": [
    "### 4. Write a program that takes a string as input and checks if it is a palindrome (reads the same forwards and backwards)."
   ]
  },
  {
   "cell_type": "code",
   "execution_count": 11,
   "id": "0b4b52d2-1457-44f1-b55c-27c71a775932",
   "metadata": {},
   "outputs": [
    {
     "name": "stdin",
     "output_type": "stream",
     "text": [
      "Enter a string:  noon\n"
     ]
    },
    {
     "name": "stdout",
     "output_type": "stream",
     "text": [
      "The input string is a palindrome.\n"
     ]
    }
   ],
   "source": [
    "\n",
    "input_string = input(\"Enter a string: \")                     # Getting input from the user\n",
    "\n",
    "\n",
    "cleaned_string = input_string.replace(\" \", \"\").lower()      # Remove spaces and convert to lowercase for case-insensitive comparison\n",
    "\n",
    "\n",
    "if cleaned_string == cleaned_string[::-1]:                 # Check if the cleaned string is equal to its reverse\n",
    "    print(\"The input string is a palindrome.\")\n",
    "else:\n",
    "    print(\"The input string is not a palindrome.\")\n"
   ]
  },
  {
   "cell_type": "markdown",
   "id": "5a21b296-9545-499d-8c9f-0491d0b5c987",
   "metadata": {},
   "source": [
    "# Explanation\n",
    "\n",
    "1. In line 1 it takes a string as input from the user.\n",
    "\n",
    "2. In line 2 it removes spaces and converts the string to lowercase to make the comparison case insensitive. This step ensures that the program can handle phrases like \"A man, a plan, a canal, Panama\" as palindromes.\n",
    "\n",
    "3. It checks if the cleaned string is equal to its reverse (using slicing with [::-1]). If the two are equal, it prints that the input string is a palindrome; otherwise, it prints that it is not a palindrome."
   ]
  },
  {
   "cell_type": "markdown",
   "id": "433aefd0-eece-4ae8-8750-dcddf513dedf",
   "metadata": {},
   "source": [
    "### 5. Create a program that takes a string as input and removes all the spaces fromit. Print the modified string without spaces."
   ]
  },
  {
   "cell_type": "code",
   "execution_count": 12,
   "id": "3926e332-97a6-44a5-9b67-ec73549b2ee6",
   "metadata": {},
   "outputs": [
    {
     "name": "stdin",
     "output_type": "stream",
     "text": [
      "Enter a string: My name Is junaid\n"
     ]
    },
    {
     "name": "stdout",
     "output_type": "stream",
     "text": [
      " The new srting is  MynameIsjunaid\n"
     ]
    }
   ],
   "source": [
    "input_string=input(\"Enter a string:\")   # Getting input from a user\n",
    "\n",
    "new_string=input_string.replace(\" \",\"\") # Remove spaces from the string\n",
    "\n",
    "print(\" The new srting is \",new_string)  #Print the modified string without spaces\n",
    "\n"
   ]
  },
  {
   "cell_type": "markdown",
   "id": "665ab379-dad8-43fd-a082-e466d7810034",
   "metadata": {},
   "source": [
    "# Explanation\n",
    "\n",
    "1. It takes a string as input from the user.\n",
    "\n",
    "2. It removes all spaces from the input string using the replace() method. We replace each space character with an empty string.\n",
    "\n",
    "3. Finally, it prints the modified string without spaces to the console."
   ]
  },
  {
   "cell_type": "markdown",
   "id": "ea288885-4130-4ec5-bd15-94e061f4fdb4",
   "metadata": {},
   "source": []
  }
 ],
 "metadata": {
  "kernelspec": {
   "display_name": "Python 3 (ipykernel)",
   "language": "python",
   "name": "python3"
  },
  "language_info": {
   "codemirror_mode": {
    "name": "ipython",
    "version": 3
   },
   "file_extension": ".py",
   "mimetype": "text/x-python",
   "name": "python",
   "nbconvert_exporter": "python",
   "pygments_lexer": "ipython3",
   "version": "3.10.8"
  }
 },
 "nbformat": 4,
 "nbformat_minor": 5
}
